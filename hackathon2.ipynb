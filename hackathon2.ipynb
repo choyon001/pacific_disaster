{
 "cells": [
  {
   "cell_type": "code",
   "execution_count": 1,
   "id": "3400e341",
   "metadata": {},
   "outputs": [],
   "source": [
    "import numpy as np\n",
    "import pandas as pd"
   ]
  },
  {
   "cell_type": "code",
   "execution_count": 2,
   "id": "b3bbd9cb",
   "metadata": {},
   "outputs": [],
   "source": [
    "df = pd.read_csv('pacific.csv')"
   ]
  },
  {
   "cell_type": "markdown",
   "id": "d3dab80d",
   "metadata": {},
   "source": [
    " ID: There are basically 1050 different ids presented here"
   ]
  },
  {
   "cell_type": "markdown",
   "id": "0027526c",
   "metadata": {},
   "source": [
    "Name: 267 different names"
   ]
  },
  {
   "cell_type": "markdown",
   "id": "13468421",
   "metadata": {},
   "source": [
    "Date: 5231 different dates"
   ]
  },
  {
   "cell_type": "markdown",
   "id": "022b3191",
   "metadata": {},
   "source": [
    "Event: 5 different events"
   ]
  },
  {
   "cell_type": "markdown",
   "id": "19d23c4f",
   "metadata": {},
   "source": [
    "Status: 12 different status"
   ]
  },
  {
   "cell_type": "markdown",
   "id": "35995d6a",
   "metadata": {},
   "source": [
    "Minimum Pressure: 118 "
   ]
  },
  {
   "cell_type": "markdown",
   "id": "9109cf6b",
   "metadata": {},
   "source": [
    "Maximum Wind: 37"
   ]
  },
  {
   "cell_type": "markdown",
   "id": "05cb73c5",
   "metadata": {},
   "source": [
    "Latitude:371"
   ]
  },
  {
   "cell_type": "markdown",
   "id": "dab4cde8",
   "metadata": {},
   "source": [
    "Longitude:1190"
   ]
  },
  {
   "cell_type": "markdown",
   "id": "85512ecc",
   "metadata": {},
   "source": [
    "67 different years from 1949 to 2015"
   ]
  },
  {
   "cell_type": "markdown",
   "id": "91225c08",
   "metadata": {},
   "source": [
    "Augest,september and july are the most affected months [8,9,7]"
   ]
  },
  {
   "cell_type": "code",
   "execution_count": null,
   "id": "aa46a8f3",
   "metadata": {},
   "outputs": [],
   "source": []
  },
  {
   "cell_type": "code",
   "execution_count": 3,
   "id": "391e8f2f",
   "metadata": {},
   "outputs": [],
   "source": [
    "df['Year'] = df['Date'].astype(str).str[:4]"
   ]
  },
  {
   "cell_type": "code",
   "execution_count": 4,
   "id": "c69852a8",
   "metadata": {},
   "outputs": [
    {
     "data": {
      "text/plain": [
       "1992    890\n",
       "2014    840\n",
       "1990    767\n",
       "1997    725\n",
       "2015    717\n",
       "1985    704\n",
       "2006    683\n",
       "1984    659\n",
       "1994    654\n",
       "1982    653\n",
       "Name: Year, dtype: int64"
      ]
     },
     "execution_count": 4,
     "metadata": {},
     "output_type": "execute_result"
    }
   ],
   "source": [
    "df['Year'].value_counts().sort_values(ascending=False)[:10]"
   ]
  },
  {
   "cell_type": "code",
   "execution_count": 5,
   "id": "535eb39b",
   "metadata": {},
   "outputs": [],
   "source": [
    "df['Month'] = df['Date'].astype(str).str[4:6]"
   ]
  },
  {
   "cell_type": "code",
   "execution_count": 6,
   "id": "0537a29a",
   "metadata": {},
   "outputs": [
    {
     "data": {
      "text/plain": [
       "08    6931\n",
       "09    6206\n",
       "07    5345\n",
       "10    3560\n",
       "06    2653\n",
       "05     634\n",
       "11     592\n",
       "12     151\n",
       "02      33\n",
       "01      21\n",
       "03      11\n",
       "Name: Month, dtype: int64"
      ]
     },
     "execution_count": 6,
     "metadata": {},
     "output_type": "execute_result"
    }
   ],
   "source": [
    "df['Month'].value_counts().sort_values(ascending=False)"
   ]
  },
  {
   "cell_type": "markdown",
   "id": "8f3741bf",
   "metadata": {},
   "source": [
    "#### since 2001 to 2015 there were 7661 disasters happened which is often 34%"
   ]
  },
  {
   "cell_type": "code",
   "execution_count": 4,
   "id": "d9fe08ee",
   "metadata": {},
   "outputs": [
    {
     "data": {
      "text/plain": [
       "7661"
      ]
     },
     "execution_count": 4,
     "metadata": {},
     "output_type": "execute_result"
    }
   ],
   "source": [
    "f_2001_To_2015 = df[df['Year'].astype('int64')>2000]\n",
    "f_2001_To_2015['Year'].value_counts().sort_values(ascending=False).sum()"
   ]
  },
  {
   "cell_type": "code",
   "execution_count": 21,
   "id": "8c8e30a0",
   "metadata": {
    "scrolled": true
   },
   "outputs": [
    {
     "data": {
      "text/plain": [
       "Latitude\n",
       "16.0N    337\n",
       "17.0N    317\n",
       "15.0N    306\n",
       "15.5N    287\n",
       "14.0N    287\n",
       "16.7N    280\n",
       "14.6N    274\n",
       "17.5N    273\n",
       "18.0N    270\n",
       "16.3N    270\n",
       "Name: Maximum Wind, dtype: int64"
      ]
     },
     "execution_count": 21,
     "metadata": {},
     "output_type": "execute_result"
    }
   ],
   "source": [
    "df.groupby('Latitude')['Maximum Wind'].count().sort_values(ascending=False)[:10]"
   ]
  },
  {
   "cell_type": "markdown",
   "id": "99f65de2",
   "metadata": {},
   "source": [
    "from 14.0N to 18.0N is highly affected \n",
    "\n",
    "Latitude in 16.0N there is maximum wind is 130 and minimum wind is 20 [25,45 and 30 is most] and average wind is 52.27.\n",
    "\n",
    "and minimum pressure is 910 and maximum pressure 1014 and average is 993.29 [where after year 2000 average is 994.19] "
   ]
  },
  {
   "cell_type": "markdown",
   "id": "f85a3a53",
   "metadata": {},
   "source": [
    "#### size 163 with -999"
   ]
  },
  {
   "cell_type": "code",
   "execution_count": 38,
   "id": "64b66805",
   "metadata": {
    "scrolled": true
   },
   "outputs": [
    {
     "data": {
      "text/plain": [
       "13248    1014\n",
       "13241    1012\n",
       "23279    1011\n",
       "20058    1011\n",
       "20059    1011\n",
       "         ... \n",
       "20955     950\n",
       "22540     948\n",
       "23327     946\n",
       "25081     929\n",
       "20878     910\n",
       "Name: Minimum Pressure, Length: 163, dtype: int64"
      ]
     },
     "execution_count": 38,
     "metadata": {},
     "output_type": "execute_result"
    }
   ],
   "source": [
    "df[(df[\"Latitude\"]==\"16.0N\") & (df[\"Minimum Pressure\"]!=-999)]['Minimum Pressure'].sort_values(ascending=False)"
   ]
  },
  {
   "cell_type": "code",
   "execution_count": 80,
   "id": "216ab9b2",
   "metadata": {},
   "outputs": [],
   "source": [
    "#16N\n",
    "N16 = df[(df[\"Latitude\"]==\"16.0N\")&(df['Minimum Pressure']!=-999)] "
   ]
  },
  {
   "cell_type": "code",
   "execution_count": 91,
   "id": "60249976",
   "metadata": {},
   "outputs": [
    {
     "data": {
      "text/plain": [
       "994.1941747572815"
      ]
     },
     "execution_count": 91,
     "metadata": {},
     "output_type": "execute_result"
    }
   ],
   "source": [
    "N16[N16['Year'].astype('int32')>2000]['Minimum Pressure'].mean()"
   ]
  },
  {
   "cell_type": "code",
   "execution_count": null,
   "id": "23231f6c",
   "metadata": {},
   "outputs": [],
   "source": []
  },
  {
   "cell_type": "code",
   "execution_count": 95,
   "id": "4295e4f8",
   "metadata": {},
   "outputs": [],
   "source": [
    "#17N\n",
    "N17 = df[(df[\"Latitude\"]==\"17.0N\")&(df['Minimum Pressure']!=-999)] "
   ]
  },
  {
   "cell_type": "markdown",
   "id": "2228d3ca",
   "metadata": {},
   "source": [
    "### 17.0N\n",
    "Minimum pressure is 933 and max pressure is 1012 and average is 993.87"
   ]
  },
  {
   "cell_type": "code",
   "execution_count": 100,
   "id": "e60fd770",
   "metadata": {},
   "outputs": [
    {
     "data": {
      "text/plain": [
       "993.8758620689655"
      ]
     },
     "execution_count": 100,
     "metadata": {},
     "output_type": "execute_result"
    }
   ],
   "source": [
    "N17['Minimum Pressure'].mean()"
   ]
  },
  {
   "cell_type": "code",
   "execution_count": null,
   "id": "0eb8a0a7",
   "metadata": {},
   "outputs": [],
   "source": []
  },
  {
   "cell_type": "markdown",
   "id": "0b259e34",
   "metadata": {},
   "source": [
    "## All latitude\n",
    "\n",
    "minimum pressure is 872 and maximum is  1021 and average is 994.99\n",
    "\n",
    "maximum wind is 185 and minimum is (10 with -999 value) 15 and average wind is 48.133"
   ]
  },
  {
   "cell_type": "code",
   "execution_count": 151,
   "id": "85ee0ca7",
   "metadata": {},
   "outputs": [
    {
     "data": {
      "text/plain": [
       "48.1332783319583"
      ]
     },
     "execution_count": 151,
     "metadata": {},
     "output_type": "execute_result"
    }
   ],
   "source": [
    "#All\n",
    "df[df['Minimum Pressure']!=-999]['Maximum Wind'].mean()"
   ]
  },
  {
   "cell_type": "code",
   "execution_count": null,
   "id": "5d3f6ae2",
   "metadata": {},
   "outputs": [],
   "source": []
  },
  {
   "cell_type": "markdown",
   "id": "41e8a525",
   "metadata": {},
   "source": [
    "# Longitude"
   ]
  },
  {
   "cell_type": "markdown",
   "id": "5b685f32",
   "metadata": {},
   "source": [
    "### top 10 affected longitude ( 108W to 112W )"
   ]
  },
  {
   "cell_type": "code",
   "execution_count": 119,
   "id": "e815eff5",
   "metadata": {},
   "outputs": [
    {
     "data": {
      "text/plain": [
       "110.0W    135\n",
       "109.0W    124\n",
       "111.0W    122\n",
       "112.0W    108\n",
       "109.5W    105\n",
       "112.5W    103\n",
       "108.8W    102\n",
       "108.0W    101\n",
       "108.6W    101\n",
       "110.8W     98\n",
       "Name: Longitude, dtype: int64"
      ]
     },
     "execution_count": 119,
     "metadata": {},
     "output_type": "execute_result"
    }
   ],
   "source": [
    "df['Longitude'].value_counts().sort_values(ascending=False)[:10]"
   ]
  },
  {
   "cell_type": "markdown",
   "id": "45275629",
   "metadata": {},
   "source": [
    "### 110.0W \n",
    "minimum pressure is 935 and maximum pressure is 1010 and average is 991.46\n",
    "\n",
    "minimum wind is 20 and maximum wind is 125 and average wind speed is 47.69"
   ]
  },
  {
   "cell_type": "code",
   "execution_count": 128,
   "id": "d2c10d74",
   "metadata": {},
   "outputs": [],
   "source": [
    "#110.0W\n",
    "W110 = df[(df[\"Longitude\"]==\"110.0W\")]['Maximum Wind'] "
   ]
  },
  {
   "cell_type": "code",
   "execution_count": 132,
   "id": "f56930cd",
   "metadata": {},
   "outputs": [
    {
     "data": {
      "text/plain": [
       "47.696296296296296"
      ]
     },
     "execution_count": 132,
     "metadata": {},
     "output_type": "execute_result"
    }
   ],
   "source": [
    "W110.mean()"
   ]
  },
  {
   "cell_type": "markdown",
   "id": "130a2a7a",
   "metadata": {},
   "source": [
    "### 109.0W \n",
    "minimum pressure is 921 and maximum pressure is 1012 and average is 991.89\n",
    "\n",
    "minimum wind is 15 and maximum wind is 140 and average wind speed is 50.56"
   ]
  },
  {
   "cell_type": "code",
   "execution_count": 138,
   "id": "20cc5a3a",
   "metadata": {},
   "outputs": [],
   "source": [
    "W109 = df[(df[\"Longitude\"]==\"109.0W\") & (df['Minimum Pressure']!=-999)]"
   ]
  },
  {
   "cell_type": "code",
   "execution_count": 141,
   "id": "dd12f0d7",
   "metadata": {},
   "outputs": [
    {
     "data": {
      "text/plain": [
       "991.8909090909091"
      ]
     },
     "execution_count": 141,
     "metadata": {},
     "output_type": "execute_result"
    }
   ],
   "source": [
    "W109['Minimum Pressure'].mean()"
   ]
  },
  {
   "cell_type": "code",
   "execution_count": null,
   "id": "7e48d624",
   "metadata": {},
   "outputs": [],
   "source": []
  },
  {
   "cell_type": "markdown",
   "id": "0eaed031",
   "metadata": {},
   "source": [
    "# All Longitude"
   ]
  },
  {
   "cell_type": "markdown",
   "id": "ad2e4102",
   "metadata": {},
   "source": [
    "minimum wind is 15 ,maximum wind is 185 and average wind is 48.133\n",
    "\n",
    "minimum pressure 872 ,maximum pressure is 1021 and average pressure is 994.99"
   ]
  },
  {
   "cell_type": "code",
   "execution_count": 149,
   "id": "96b2d417",
   "metadata": {},
   "outputs": [
    {
     "data": {
      "text/plain": [
       "994.9949748743719"
      ]
     },
     "execution_count": 149,
     "metadata": {},
     "output_type": "execute_result"
    }
   ],
   "source": [
    "#All\n",
    "df[df['Minimum Pressure']!=-999]['Minimum Pressure'].mean()"
   ]
  },
  {
   "cell_type": "code",
   "execution_count": null,
   "id": "cf9950b9",
   "metadata": {},
   "outputs": [],
   "source": []
  },
  {
   "cell_type": "markdown",
   "id": "bdb7ae15",
   "metadata": {},
   "source": [
    "# relation between Latitude and Longitude"
   ]
  },
  {
   "cell_type": "code",
   "execution_count": null,
   "id": "6dfc0d27",
   "metadata": {},
   "outputs": [],
   "source": []
  },
  {
   "cell_type": "markdown",
   "id": "5f5883b7",
   "metadata": {},
   "source": [
    "# Top 20 Maximum affected latitude and longitude combinations of Maximum Wind"
   ]
  },
  {
   "cell_type": "code",
   "execution_count": 155,
   "id": "f0a7f430",
   "metadata": {},
   "outputs": [
    {
     "data": {
      "text/plain": [
       "Latitude  Longitude  Maximum Wind\n",
       "12.8N     157.3W     30              8\n",
       "16.8N     142.0W     40              5\n",
       "12.4N     145.0W     30              5\n",
       "13.8N     174.0W     45              4\n",
       "17.0N     110.0W     25              4\n",
       "23.2N     120.4W     30              3\n",
       "17.7N     114.2W     35              3\n",
       "18.0N     109.0W     45              3\n",
       "17.3N     109.0W     30              3\n",
       "18.0N     110.0W     30              3\n",
       "16.8N     110.0W     30              3\n",
       "14.2N     109.6W     25              3\n",
       "23.3N     143.3W     65              3\n",
       "14.3N     105.7W     45              3\n",
       "14.7N     157.7W     30              3\n",
       "14.2N     101.0W     35              3\n",
       "11.5N     97.0W      25              3\n",
       "12.9N     109.8W     45              3\n",
       "12.8N     95.6W      25              3\n",
       "11.7N     99.6W      30              3\n",
       "Name: Maximum Wind, dtype: int64"
      ]
     },
     "execution_count": 155,
     "metadata": {},
     "output_type": "execute_result"
    }
   ],
   "source": [
    "df.groupby(['Latitude','Longitude'])['Maximum Wind'].value_counts().sort_values(ascending=False)[:20]"
   ]
  },
  {
   "cell_type": "code",
   "execution_count": null,
   "id": "9636a1af",
   "metadata": {},
   "outputs": [],
   "source": []
  },
  {
   "cell_type": "markdown",
   "id": "e36426c6",
   "metadata": {},
   "source": [
    "# Top 20 Maximum affected latitude and longitude combinations of Minimum Pressure"
   ]
  },
  {
   "cell_type": "code",
   "execution_count": 181,
   "id": "d11b2618",
   "metadata": {},
   "outputs": [
    {
     "data": {
      "text/plain": [
       "Latitude  Longitude  Minimum Pressure\n",
       "19.5N     110.0W     1003                2\n",
       "14.6N     108.7W     1005                2\n",
       "19.0N     138.5W     1010                2\n",
       "14.9N     129.9W     974                 2\n",
       "14.3N     118.6W     960                 2\n",
       "14.9N     104.3W     1004                2\n",
       "21.0N     108.0W     1004                2\n",
       "14.7N     106.9W     1006                2\n",
       "14.6N     156.8W     1010                2\n",
       "12.9N     109.0W     1008                2\n",
       "16.2N     111.0W     1005                2\n",
       "13.6N     111.5W     1000                2\n",
       "20.8N     128.0W     1011                2\n",
       "23.1N     115.7W     1011                2\n",
       "15.4N     106.2W     1007                2\n",
       "18.7N     112.2W     1006                2\n",
       "12.3N     127.8W     1008                2\n",
       "26.1N     118.6W     1010                2\n",
       "20.0N     136.7W     1010                2\n",
       "15.3N     119.3W     1009                2\n",
       "Name: Minimum Pressure, dtype: int64"
      ]
     },
     "execution_count": 181,
     "metadata": {},
     "output_type": "execute_result"
    }
   ],
   "source": [
    "df[df['Minimum Pressure']!=-999].groupby(['Latitude','Longitude'])['Minimum Pressure'].value_counts().sort_values(ascending=False)[:20]"
   ]
  }
 ],
 "metadata": {
  "kernelspec": {
   "display_name": "Python 3 (ipykernel)",
   "language": "python",
   "name": "python3"
  },
  "language_info": {
   "codemirror_mode": {
    "name": "ipython",
    "version": 3
   },
   "file_extension": ".py",
   "mimetype": "text/x-python",
   "name": "python",
   "nbconvert_exporter": "python",
   "pygments_lexer": "ipython3",
   "version": "3.9.13"
  }
 },
 "nbformat": 4,
 "nbformat_minor": 5
}
